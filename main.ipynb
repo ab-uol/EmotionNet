{
 "cells": [
  {
   "cell_type": "code",
   "execution_count": 1,
   "id": "6c87a9ba-f3c8-4e46-9200-3141c78fbf8e",
   "metadata": {
    "tags": []
   },
   "outputs": [],
   "source": [
    "import os\n",
    "import cv2\n",
    "import numpy as np\n",
    "import pandas as pd\n",
    "import seaborn as sns\n",
    "import speech_recognition as sr\n",
    "from langdetect import detect\n",
    "import matplotlib.pyplot as plt\n",
    "from googletrans import Translator\n",
    "from pydub import AudioSegment\n",
    "import pickle\n",
    "import re\n",
    "from IPython.display import Video, display\n",
    "\n",
    "# TensorFlow and Keras imports\n",
    "import tensorflow as tf\n",
    "from tensorflow.keras.models import Sequential, Model, load_model\n",
    "from tensorflow.keras.layers import LSTM, Dense, TimeDistributed, Input, Dropout, Dot, Flatten\n",
    "from tensorflow.keras.preprocessing.sequence import pad_sequences\n",
    "from tensorflow.keras.optimizers import Adam\n",
    "from tensorflow.keras.utils import to_categorical\n",
    "from tensorflow.keras.callbacks import EarlyStopping, Callback\n",
    "from tensorflow.keras import backend as K\n",
    "from tensorflow.keras.preprocessing.text import Tokenizer\n",
    "from tensorflow.keras.applications.vgg16 import VGG16, preprocess_input\n",
    "\n",
    "# Scikit-learn imports for data splitting and k-fold validation\n",
    "from sklearn.model_selection import train_test_split, KFold, StratifiedKFold\n",
    "from sklearn.metrics import classification_report, confusion_matrix\n",
    "\n",
    "import warnings\n",
    "warnings.filterwarnings(\"ignore\")\n",
    "os.environ['TF_CPP_MIN_LOG_LEVEL'] = '2'  # Suppress most of the TF warnings\n",
    "tf.compat.v1.logging.set_verbosity(tf.compat.v1.logging.ERROR)  # Suppress TF v1.x warnings\n"
   ]
  },
  {
   "cell_type": "code",
   "execution_count": 2,
   "id": "41314e93-2c5e-4dda-9e38-d0f2fb5b3015",
   "metadata": {
    "tags": []
   },
   "outputs": [],
   "source": [
    "%run predicting_VGG16.ipynb\n",
    "%run predicting.ipynb\n",
    "%run training_VGG16.ipynb\n",
    "%run training.ipynb"
   ]
  },
  {
   "cell_type": "code",
   "execution_count": 3,
   "id": "880bf289-955f-4a31-b98b-ac824944d035",
   "metadata": {
    "tags": []
   },
   "outputs": [],
   "source": [
    "def map_to_emotion(label):\n",
    "    emotion_map = {\n",
    "        'an': 'Angry',\n",
    "        'di': 'Disgust',\n",
    "        'fe': 'Fear',\n",
    "        'ha': 'Happy',\n",
    "        'sa': 'Sad',\n",
    "        'su': 'Surprise'\n",
    "    }\n",
    "    # Extract the base emotion from the label (e.g., \"an\" from \"an1\")\n",
    "    base_emotion = label[:2]\n",
    "    return emotion_map.get(base_emotion, label)"
   ]
  },
  {
   "cell_type": "code",
   "execution_count": 4,
   "id": "14941acc-92f3-4c8b-9a88-593d616b4fd1",
   "metadata": {
    "tags": []
   },
   "outputs": [],
   "source": [
    "def handle_training(emotion_to_int, emotion_labels):\n",
    "     # Brief explanation of the approaches\n",
    "    print(\"\\nBefore we proceed, let's understand the three training approaches available in EmotionNet:\")\n",
    "    print(\"\\n1) Fine-Tuning Approach:\")\n",
    "    print(\"   - Uses a pre-trained CNN model with an LSTM layer on top.\")\n",
    "    print(\"   - Leverages the CNN's feature extraction and LSTM's sequence modeling.\")\n",
    "    print(\"   - Challenges: Slow training and potential overfitting.\")\n",
    "    \n",
    "    print(\"\\n2) Feature Extraction Approach:\")\n",
    "    print(\"   - Uses the CNN as a feature extractor for each frame.\")\n",
    "    print(\"   - The extracted features are passed as a sequence to an LSTM.\")\n",
    "    print(\"   - Challenges: Results might not be optimal due to feature representation.\")\n",
    "    \n",
    "    print(\"\\n3) Hybrid Approach:\")\n",
    "    print(\"   - Combines the above two approaches.\")\n",
    "    print(\"   - Fine-tunes the top layers of the CNN for better feature extraction.\")\n",
    "    print(\"   - Extracted features are then used as input to the LSTM.\")\n",
    "    print(\"   - Aims to balance between pre-trained features and task-specific fine-tuning.\")\n",
    "    \n",
    "    # Ask the user to choose an approach\n",
    "    while True:\n",
    "        approach = input(\"\\nPlease choose a training approach (1/2/3): \")\n",
    "        # Handle the user's choice\n",
    "        if approach == \"1\" or approach == \"2\":\n",
    "            print(\"\\nSorry, due to system specifications, we cannot run the chosen model at this time.\")\n",
    "            print(\"Please consider using the Hybrid Approach (choice 3) for optimal results.\")\n",
    "        elif approach == \"3\":\n",
    "            print(\"\\nYou've chosen the Hybrid Approach. Let's proceed with this method!\")\n",
    "            break  # Exit the loop and proceed with the rest of the code for the Hybrid Approach\n",
    "        else:\n",
    "            print(\"Invalid choice. Please enter 1, 2, or 3.\")\n",
    "\n",
    "            \n",
    "    # Inform the user about the naming convention\n",
    "    print(\"\\nPlease ensure that the training clips are named according to the following convention:\")\n",
    "    print(\"The first two letters of each clip's name should represent the emotion attributed to the clip.\")\n",
    "    print(\" 'an': 'anger',\")\n",
    "    print(\" 'di': 'disgust',\")\n",
    "    print(\" 'fe': 'fear',\")\n",
    "    print(\" 'ha': 'happiness',\")\n",
    "    print(\" 'sa': 'sadness',\")\n",
    "    print(\" 'su': 'surprise'\\n\")\n",
    "    \n",
    "    # Get the path to the training clips folder\n",
    "    folder_path = input(\"Enter the path to the folder containing the training clips: \")\n",
    "\n",
    "    # Ask the user to choose between a custom CNN or VGG16\n",
    "    while True:\n",
    "        print(\"\\nChoose the CNN model you'd like to use:\")\n",
    "        print(\"1. Custom pre-trained CNN\")\n",
    "        print(\"2. VGG16\")\n",
    "        cnn_choice = input(\"Enter your choice (1 or 2): \")\n",
    "\n",
    "        if cnn_choice == \"1\":\n",
    "            custom_cnn_path = input(\"Enter the path to your custom pre-trained CNN model: \")\n",
    "            print(\"You chose a custom model with path:\", custom_cnn_path)\n",
    "            break\n",
    "        elif cnn_choice == \"2\":\n",
    "            custom_cnn_path = None  # This will indicate that we're using VGG16\n",
    "            print(\"You chose VGG16.\")\n",
    "            break\n",
    "        else:\n",
    "            print(\"Invalid choice. Please enter '1' or '2'.\")\n",
    "            \n",
    "            \n",
    "    # Display the summary\n",
    "    print(f\"\\n    Summary of provided data:\")\n",
    "    print(f\"\\t    Chosen approach: {approach}\")\n",
    "    print(f\"\\t    Chosen Pre-trained CNN: {cnn_choice}\")\n",
    "    print(f\"\\t    Training clips folder: {folder_path}\")\n",
    "    \n",
    "    # Ask the user to proceed or reset\n",
    "    while True:\n",
    "        decision = input(\"    Do you want to proceed with the above data? (yes to proceed / no to reset and start again): \").lower()\n",
    "        if decision == \"yes\":\n",
    "            print('\\n')\n",
    "            print(\"*\" *25, \"TRAINING\", \"*\" *25,\"\\n1) We are going to extract still frames from the clips...\")\n",
    "            extract_frames_from_folder(folder_path)\n",
    "             # Adjust the feature extraction and LSTM training based on the chosen CNN\n",
    "            if custom_cnn_path:\n",
    "                print(\"\\n\\n2) We are going to extract features from the frames of the clips with your custom pre-trained CNN model...\")\n",
    "                sequences, y_train_labels = prepare_data_from_frames_custom(folder_path, emotion_to_int, emotion_labels, custom_cnn_path)\n",
    "                print(\"\\n\\n3) We are going to input the features in an LSTM model after preprocessing...\")\n",
    "                run_lstm(sequences, y_train_labels, emotion_labels)\n",
    "                \n",
    "            else:\n",
    "                print(\"\\n\\n2) We are going to extract features from the frames of the clips with the VGG16 model...\")\n",
    "                sequences, y_train_labels = prepare_data_from_frames_VGG16(folder_path, emotion_to_int, emotion_labels)\n",
    "                print(\"\\n\\n3) We are going to input the features in an LSTM model after preprocessing...\")\n",
    "                run_lstm_VGG16(sequences, y_train_labels, emotion_labels)\n",
    "            break\n",
    "        elif decision == \"no\":\n",
    "            print(\"\\n...resetting data...\\n\")\n",
    "            handle_training(emotion_to_int, emotion_labels)  # Recursively call the function to start again\n",
    "            break\n",
    "        else:\n",
    "            print(\"Invalid input. Please enter 'yes' or 'no'.\")\n",
    "    return sequences, y_train_labels, custom_cnn_path\n"
   ]
  },
  {
   "cell_type": "code",
   "execution_count": 5,
   "id": "a3f79ef3-b7f4-4d24-9ea6-7f7f44209ade",
   "metadata": {
    "tags": []
   },
   "outputs": [],
   "source": [
    "def handling_predicting(emotion_to_int, emotion_labels, custom_cnn_path):\n",
    "    # Get the path to the training clips folder\n",
    "    clip_path = input(\"\\n    Enter the path to the clip: \")\n",
    "    \n",
    "    # Get the language\n",
    "    # language = input(\"Enter the language: \")\n",
    "    speech_recognition_lang, translation_lang = get_language_choice()\n",
    "    \n",
    "    # Display the summary\n",
    "    print(f\"\\n    Summary of provided data:\")\n",
    "    print(f\"\\t\\tClip to predict: {clip_path}\")\n",
    "    print(f\"\\t\\tLanguage: {speech_recognition_lang}\\n\")\n",
    "    \n",
    "    # Ask the user to proceed or reset\n",
    "    while True:\n",
    "        decision = input(\"    Do you want to proceed with the above data? (yes to proceed / no to reset and start again): \").lower()\n",
    "        if decision == \"yes\":\n",
    "            print('\\n')\n",
    "            print(\"*\" *25, \"PREDICTING\", \"*\" *25,\"\\n1) We are going to extract still frames from the clip...\")\n",
    "            if custom_cnn_path:\n",
    "                frames = preprocess_video_clip(clip_path)\n",
    "            else: \n",
    "                frames = preprocess_video_clip_VGG16(clip_path)\n",
    "            print(\"\\n\\n2) We are going to extract features from the frames of the clips with our pre-trained CNN model...\")\n",
    "            if custom_cnn_path:\n",
    "                clip_features = prepare_single_clip_data(frames)\n",
    "            else:\n",
    "                clip_features = prepare_single_clip_data_VGG16(frames)\n",
    "            print(\"\\n\\n3) We are going to create the text from the audio...\")\n",
    "            en_text = process_audio_from_video(clip_path, speech_recognition_lang, translation_lang)\n",
    "            print(\"\\n\\n4) We are going to preprocess the text...\")\n",
    "            tokenized_padded_text = preprocess_text(en_text)\n",
    "            print(\"\\n\\n5) We are going feed the audio and video in the Multi-imput LSTM model for prediction\")\n",
    "            if custom_cnn_path:\n",
    "                run_multi_input(clip_features, tokenized_padded_text, emotion_labels)\n",
    "            else:\n",
    "                run_multi_input_VGG16(clip_features, tokenized_padded_text, emotion_labels)\n",
    "           \n",
    "\n",
    "            break\n",
    "        elif decision == \"no\":\n",
    "            print(\"\\n...resetting data...\\n\")\n",
    "            handling_predicting(emotion_to_int, emotion_labels)  # Recursively call the function to start again\n",
    "            break\n",
    "        else:\n",
    "            print(\"Invalid input. Please enter 'yes' or 'no'.\")"
   ]
  },
  {
   "cell_type": "code",
   "execution_count": 6,
   "id": "dcb11b08-d288-4693-8ffa-c1a57f359295",
   "metadata": {
    "tags": []
   },
   "outputs": [],
   "source": [
    "def get_language_choice():\n",
    "    # Dictionary mapping user-friendly language names to their codes for Google Speech Recognition and Translation\n",
    "    language_map = {\n",
    "        \"English\": (\"en-US\", \"en\"),\n",
    "        \"Italian\": (\"it-IT\", \"it\"),\n",
    "        \"Spanish\": (\"es-ES\", \"es\"),\n",
    "        \"French\": (\"fr-FR\", \"fr\"),\n",
    "        # ... add more languages as needed\n",
    "    }\n",
    "\n",
    "    # Display the language menu\n",
    "    print(\"\\n   Please insert the language of the video clip:\")\n",
    "    for idx, lang in enumerate(language_map.keys(), 1):\n",
    "        print(f\"\\t{idx}) {lang}\")\n",
    "\n",
    "    # Get the user's choice\n",
    "    while True:\n",
    "        choice = input(\"\\n    Enter your choice (number): \")\n",
    "        try:\n",
    "            selected_language = list(language_map.keys())[int(choice) - 1]\n",
    "            return language_map[selected_language]\n",
    "        except (ValueError, IndexError):\n",
    "            print(\"Invalid choice. Please enter a number from the list.\")"
   ]
  },
  {
   "cell_type": "code",
   "execution_count": 7,
   "id": "b4973c2a-336a-4ba7-9ca4-a74ba374390b",
   "metadata": {
    "tags": []
   },
   "outputs": [],
   "source": [
    "def get_user_input(emotion_to_int, emotion_labels):\n",
    "    print('*'*27)\n",
    "    print(\"*  WELCOME TO EMOTIONNET  *\")\n",
    "    print('*'*27)\n",
    "    \n",
    "    print(\"\\nEmotionNet is a specialized tool designed to analyze and understand individual-specific emotional expressions from video clips.\")\n",
    "    print(\"Using a combination of Convolutional Neural Networks (CNN) and Long Short-Term Memory (LSTM) networks, EmotionNet:\")\n",
    "    print(\"    1. Learns facial expressions from video clips of a single individual.\")\n",
    "    print(\"    2. Assesses the emotional congruence between the individual's facial expressions and spoken words.\")\n",
    "    print(\"This tool can be invaluable for media performers during rehearsals, ensuring their facial expressions align with their spoken words.\")\n",
    "    print(\"Additionally, EmotionNet's unique approach holds potential as a component in advanced lie detection systems.\\n\")\n",
    "    \n",
    "    \n",
    "    while True:  # This loop will keep running until the user decides to exit\n",
    "        print(\"\\n    Please choose an action:\")\n",
    "        print(\"\\t1) Train a new RNN\")\n",
    "        print(\"\\t2) Analyze a video clip (requires a trained RNN)\")\n",
    "        print(\"\\t3) Exit\")\n",
    "\n",
    "        choice = input(\"\\n    Enter your choice (1, 2, or 3): \")\n",
    "\n",
    "        if choice == \"1\":\n",
    "            sequences, y_train_labels, custom_cnn_path = handle_training(emotion_to_int, emotion_labels)\n",
    "            print(\"\\nTraining successfully completed! The trained RNN model is now: 'Models/best_rnn_model.h5'\")\n",
    "        elif choice == \"2\":\n",
    "            while True:  # Keep asking until valid input is provided\n",
    "                confirmation = input(\"    To proceed with this action, you must have an RNN trained on the same individual you intend to analyze saved in the folder 'Models'.\\n    Can you confirm? (yes/no): \")\n",
    "                if confirmation.lower() == \"yes\":\n",
    "                    print(\"    You chose to analyze a video clip.\")\n",
    "                    handling_predicting(emotion_to_int, emotion_labels, custom_cnn_path)\n",
    "                    break  # Exit the inner loop after analyzing the video clip\n",
    "                elif confirmation.lower() == \"no\":\n",
    "                    break  # Exit the inner loop without analyzing the video clip\n",
    "                else:\n",
    "                    print(\"Invalid input. Please enter 'yes' or 'no'.\")\n",
    "        elif choice == \"3\":\n",
    "            print(\"\\n\")\n",
    "            print('*'*32)\n",
    "            print(\"* Exiting EmotionNet. Goodbye! *\")\n",
    "            print('*'*32)\n",
    "            break  # This will break out of the while loop and end the function\n",
    "        else:\n",
    "            print(\"    Invalid choice. Please enter 1, 2, or 3.\")\n"
   ]
  },
  {
   "cell_type": "code",
   "execution_count": 13,
   "id": "15650fb0-bc0a-4040-a6e1-71b847b20796",
   "metadata": {
    "tags": []
   },
   "outputs": [
    {
     "name": "stdout",
     "output_type": "stream",
     "text": [
      "***************************\n",
      "*  WELCOME TO EMOTIONNET  *\n",
      "***************************\n",
      "\n",
      "EmotionNet is a specialized tool designed to analyze and understand individual-specific emotional expressions from video clips.\n",
      "Using a combination of Convolutional Neural Networks (CNN) and Long Short-Term Memory (LSTM) networks, EmotionNet:\n",
      "    1. Learns facial expressions from video clips of a single individual.\n",
      "    2. Assesses the emotional congruence between the individual's facial expressions and spoken words.\n",
      "This tool can be invaluable for media performers during rehearsals, ensuring their facial expressions align with their spoken words.\n",
      "Additionally, EmotionNet's unique approach holds potential as a component in advanced lie detection systems.\n",
      "\n",
      "\n",
      "    Please choose an action:\n",
      "\t1) Train a new RNN\n",
      "\t2) Analyze a video clip (requires a trained RNN)\n",
      "\t3) Exit\n"
     ]
    },
    {
     "name": "stdin",
     "output_type": "stream",
     "text": [
      "\n",
      "    Enter your choice (1, 2, or 3):  1\n"
     ]
    },
    {
     "name": "stdout",
     "output_type": "stream",
     "text": [
      "\n",
      "Before we proceed, let's understand the three training approaches available in EmotionNet:\n",
      "\n",
      "1) Fine-Tuning Approach:\n",
      "   - Uses a pre-trained CNN model with an LSTM layer on top.\n",
      "   - Leverages the CNN's feature extraction and LSTM's sequence modeling.\n",
      "   - Challenges: Slow training and potential overfitting.\n",
      "\n",
      "2) Feature Extraction Approach:\n",
      "   - Uses the CNN as a feature extractor for each frame.\n",
      "   - The extracted features are passed as a sequence to an LSTM.\n",
      "   - Challenges: Results might not be optimal due to feature representation.\n",
      "\n",
      "3) Hybrid Approach:\n",
      "   - Combines the above two approaches.\n",
      "   - Fine-tunes the top layers of the CNN for better feature extraction.\n",
      "   - Extracted features are then used as input to the LSTM.\n",
      "   - Aims to balance between pre-trained features and task-specific fine-tuning.\n"
     ]
    },
    {
     "name": "stdin",
     "output_type": "stream",
     "text": [
      "\n",
      "Please choose a training approach (1/2/3):  3\n"
     ]
    },
    {
     "name": "stdout",
     "output_type": "stream",
     "text": [
      "\n",
      "You've chosen the Hybrid Approach. Let's proceed with this method!\n",
      "\n",
      "Please ensure that the training clips are named according to the following convention:\n",
      "The first two letters of each clip's name should represent the emotion attributed to the clip.\n",
      " 'an': 'anger',\n",
      " 'di': 'disgust',\n",
      " 'fe': 'fear',\n",
      " 'ha': 'happiness',\n",
      " 'sa': 'sadness',\n",
      " 'su': 'surprise'\n",
      "\n"
     ]
    },
    {
     "name": "stdin",
     "output_type": "stream",
     "text": [
      "Enter the path to the folder containing the training clips:  Training_Clips\n"
     ]
    },
    {
     "name": "stdout",
     "output_type": "stream",
     "text": [
      "\n",
      "Choose the CNN model you'd like to use:\n",
      "1. Custom pre-trained CNN\n",
      "2. VGG16\n"
     ]
    },
    {
     "name": "stdin",
     "output_type": "stream",
     "text": [
      "Enter your choice (1 or 2):  2\n"
     ]
    },
    {
     "name": "stdout",
     "output_type": "stream",
     "text": [
      "You chose VGG16.\n",
      "\n",
      "    Summary of provided data:\n",
      "\t    Chosen approach: 3\n",
      "\t    Chosen Pre-trained CNN: 2\n",
      "\t    Training clips folder: Training_Clips\n"
     ]
    },
    {
     "name": "stdin",
     "output_type": "stream",
     "text": [
      "    Do you want to proceed with the above data? (yes to proceed / no to reset and start again):  yes\n"
     ]
    },
    {
     "name": "stdout",
     "output_type": "stream",
     "text": [
      "\n",
      "\n",
      "************************* TRAINING ************************* \n",
      "1) We are going to extract still frames from the clips...\n",
      "\t...total clips in the folder: 24\n",
      "\t...creating a new folder to store frames from clips at: Training_Clips\\Separated_Frames\n",
      "\t...extracting frame: 178 from clip: 23 of 24  \n",
      "\n",
      "   SUMMARY: \n",
      "\tExtracted 4031 frames from the folder 'Training_Clips' and saved in 'Training_Clips\\Separated_Frames'\n",
      "\tTotal clips extracted: 24\n",
      "\tExample frame name: Training_Clips\\Separated_Frames\\su5\\frame_0000.png\n",
      "\n",
      "\n",
      "2) We are going to extract features from the frames of the clips with the VGG16 model...\n",
      "\t...loading VGG16 pre-trained model\n",
      "\t...found 24 folders of frames, each from a clip\n",
      "\t\t...resizing frames...\n",
      "\t\t...extracting features with the CNN model...\n",
      "\t\t...creating labels from titles of folders...\n",
      "\t\t...of file 179/179 in folder 24, called su5  \n",
      "\n",
      "   SUMMARY: \n",
      "\tProcessed all emotion folders from 'Training_Clips\\Separated_Frames'\n",
      "\t    Total folders processed: 24\n",
      "\t    Labels assigned: [0, 0, 1, 1, 1, 1, 2, 2, 2, 2, 2, 3, 3, 3, 4, 4, 4, 4, 4, 5, 5, 5, 5, 5]\n",
      "\n",
      "\n",
      "3) We are going to input the features in an LSTM model after preprocessing...\n",
      "\t...preprocessing inputs\n",
      "\t\t...randomly shuffling sequences and labels'\n",
      "\t\t...padding sequences of features with 'post'\n",
      "\t\t...transforming labels with one-hot encoding\n"
     ]
    },
    {
     "name": "stdin",
     "output_type": "stream",
     "text": [
      "\n",
      "Would you like to verify the inputs before proceeding? (yes/no):  yes\n"
     ]
    },
    {
     "name": "stdout",
     "output_type": "stream",
     "text": [
      "\n",
      "\tChoose a method of verification:\n",
      "\t1. Display a summary of the data (shape, data type).\n",
      "\t2. Display the first few rows of the data.\n",
      "\t3. Display random samples from the data.\n",
      "\t4. Display basic statistics for the data.\n",
      "\t5. Proceed without further verification.\n"
     ]
    },
    {
     "name": "stdin",
     "output_type": "stream",
     "text": [
      "Enter your choice (1/2/3/4/5):  1\n"
     ]
    },
    {
     "name": "stdout",
     "output_type": "stream",
     "text": [
      "\n",
      "\t\tSequences shape: (24, 193, 25088)\n",
      "\t\tOne-hot encoded labels shape: (24, 6)\n",
      "\n",
      "\tChoose a method of verification:\n",
      "\t1. Display a summary of the data (shape, data type).\n",
      "\t2. Display the first few rows of the data.\n",
      "\t3. Display random samples from the data.\n",
      "\t4. Display basic statistics for the data.\n",
      "\t5. Proceed without further verification.\n"
     ]
    },
    {
     "name": "stdin",
     "output_type": "stream",
     "text": [
      "Enter your choice (1/2/3/4/5):  4\n"
     ]
    },
    {
     "name": "stdout",
     "output_type": "stream",
     "text": [
      "\n",
      "\t\tSequences mean: 0.49148804\n",
      "\t\tSequences median: 0.0\n",
      "\t\tSequences standard deviation: 4.035366\n",
      "\n",
      "\tChoose a method of verification:\n",
      "\t1. Display a summary of the data (shape, data type).\n",
      "\t2. Display the first few rows of the data.\n",
      "\t3. Display random samples from the data.\n",
      "\t4. Display basic statistics for the data.\n",
      "\t5. Proceed without further verification.\n"
     ]
    },
    {
     "name": "stdin",
     "output_type": "stream",
     "text": [
      "Enter your choice (1/2/3/4/5):  5\n"
     ]
    },
    {
     "name": "stdout",
     "output_type": "stream",
     "text": [
      "\t...creating the model\n",
      "\n",
      "\n",
      "**********************************************************************\n",
      "Model: \"Our_Chosen_RNN_Model_VGG16\"\n",
      "_________________________________________________________________\n",
      "Layer (type)                 Output Shape              Param #   \n",
      "=================================================================\n",
      "input_2 (InputLayer)         [(None, None, 25088)]     0         \n",
      "_________________________________________________________________\n",
      "time_distributed (TimeDistri (None, None, 25088)       0         \n",
      "_________________________________________________________________\n",
      "lstm (LSTM)                  (None, 128)               12911104  \n",
      "_________________________________________________________________\n",
      "dropout (Dropout)            (None, 128)               0         \n",
      "_________________________________________________________________\n",
      "dense (Dense)                (None, 6)                 774       \n",
      "=================================================================\n",
      "Total params: 12,911,878\n",
      "Trainable params: 12,911,878\n",
      "Non-trainable params: 0\n",
      "_________________________________________________________________\n",
      "Dropout: 0.5 \n",
      "Activation: SoftMax \n",
      "Optimizer: Adam(learning_rate=0.0005) \n",
      "Loss: loss: categorical_crossentropy\n",
      "********************************************************************** \n",
      "\n",
      "\t...implementing data-augmentation with 'jitter'\n",
      "\t...training the model with k-fold validation\n",
      "\t   Training on fold 1/5\n",
      "\t\tEpoch 100 - train_accuracy: 1.0000 - val_accuracy: 0.2000\n",
      "\t   Training on fold 2/5\n",
      "\t\tEpoch 11 - train_accuracy: 1.0000 - val_accuracy: 1.0000\n",
      "\t   Training on fold 3/5\n",
      "\t\tEpoch 100 - train_accuracy: 1.0000 - val_accuracy: 1.0000\n",
      "\t   Training on fold 4/5\n",
      "\t\tEpoch 37 - train_accuracy: 1.0000 - val_accuracy: 1.0000\n",
      "\t   Training on fold 5/5\n",
      "\t\tEpoch 100 - train_accuracy: 1.0000 - val_accuracy: 1.0000\n",
      "\t...saving the best model from fold: 2 with accuracy: 1.0 as: Models/best_rnn_model.h5\n",
      "\n",
      "\n",
      "4) Evaluation\n",
      "\n",
      "    Choose an evaluation option:\n",
      "\t1) Evaluate on validation set\n",
      "\t2) Plot training loss vs validation loss graph\n",
      "\t3) Plot training accuracy vs validation accuracy graph\n",
      "\t4) Print confusion matrix\n",
      "\t5) Print classification report\n",
      "\t6) Exit evaluation\n"
     ]
    },
    {
     "name": "stdin",
     "output_type": "stream",
     "text": [
      "\n",
      "Enter your choice (1/2/3/4/5/6):  1\n"
     ]
    },
    {
     "name": "stdout",
     "output_type": "stream",
     "text": [
      "Validation Accuracy: 100.00%\n",
      "\n",
      "    Choose an evaluation option:\n",
      "\t1) Evaluate on validation set\n",
      "\t2) Plot training loss vs validation loss graph\n",
      "\t3) Plot training accuracy vs validation accuracy graph\n",
      "\t4) Print confusion matrix\n",
      "\t5) Print classification report\n",
      "\t6) Exit evaluation\n"
     ]
    },
    {
     "name": "stdin",
     "output_type": "stream",
     "text": [
      "\n",
      "Enter your choice (1/2/3/4/5/6):  2\n"
     ]
    },
    {
     "data": {
      "image/png": "[encoded data removed]",
      "text/plain": [
       "<Figure size 640x480 with 1 Axes>"
      ]
     },
     "metadata": {},
     "output_type": "display_data"
    },
    {
     "name": "stdout",
     "output_type": "stream",
     "text": [
      "\n",
      "    Choose an evaluation option:\n",
      "\t1) Evaluate on validation set\n",
      "\t2) Plot training loss vs validation loss graph\n",
      "\t3) Plot training accuracy vs validation accuracy graph\n",
      "\t4) Print confusion matrix\n",
      "\t5) Print classification report\n",
      "\t6) Exit evaluation\n"
     ]
    },
    {
     "name": "stdin",
     "output_type": "stream",
     "text": [
      "\n",
      "Enter your choice (1/2/3/4/5/6):  3\n"
     ]
    },
    {
     "data": {
      "image/png": "[encoded data removed]",
      "text/plain": [
       "<Figure size 640x480 with 1 Axes>"
      ]
     },
     "metadata": {},
     "output_type": "display_data"
    },
    {
     "name": "stdout",
     "output_type": "stream",
     "text": [
      "\n",
      "    Choose an evaluation option:\n",
      "\t1) Evaluate on validation set\n",
      "\t2) Plot training loss vs validation loss graph\n",
      "\t3) Plot training accuracy vs validation accuracy graph\n",
      "\t4) Print confusion matrix\n",
      "\t5) Print classification report\n",
      "\t6) Exit evaluation\n"
     ]
    },
    {
     "name": "stdin",
     "output_type": "stream",
     "text": [
      "\n",
      "Enter your choice (1/2/3/4/5/6):  4\n"
     ]
    },
    {
     "data": {
      "image/png": "[encoded data removed]",
      "text/plain": [
       "<Figure size 1500x1000 with 1 Axes>"
      ]
     },
     "metadata": {},
     "output_type": "display_data"
    },
    {
     "name": "stdout",
     "output_type": "stream",
     "text": [
      "\n",
      "    Choose an evaluation option:\n",
      "\t1) Evaluate on validation set\n",
      "\t2) Plot training loss vs validation loss graph\n",
      "\t3) Plot training accuracy vs validation accuracy graph\n",
      "\t4) Print confusion matrix\n",
      "\t5) Print classification report\n",
      "\t6) Exit evaluation\n"
     ]
    },
    {
     "name": "stdin",
     "output_type": "stream",
     "text": [
      "\n",
      "Enter your choice (1/2/3/4/5/6):  5\n"
     ]
    },
    {
     "name": "stdout",
     "output_type": "stream",
     "text": [
      "Classification Report:\n",
      "              precision    recall  f1-score   support\n",
      "\n",
      "           1       1.00      1.00      1.00         1\n",
      "           2       1.00      1.00      1.00         1\n",
      "           4       1.00      1.00      1.00         1\n",
      "           5       1.00      1.00      1.00         1\n",
      "\n",
      "    accuracy                           1.00         4\n",
      "   macro avg       1.00      1.00      1.00         4\n",
      "weighted avg       1.00      1.00      1.00         4\n",
      "\n",
      "\n",
      "    Choose an evaluation option:\n",
      "\t1) Evaluate on validation set\n",
      "\t2) Plot training loss vs validation loss graph\n",
      "\t3) Plot training accuracy vs validation accuracy graph\n",
      "\t4) Print confusion matrix\n",
      "\t5) Print classification report\n",
      "\t6) Exit evaluation\n"
     ]
    },
    {
     "name": "stdin",
     "output_type": "stream",
     "text": [
      "\n",
      "Enter your choice (1/2/3/4/5/6):  6\n"
     ]
    },
    {
     "name": "stdout",
     "output_type": "stream",
     "text": [
      "\n",
      "Training successfully completed! The trained RNN model is now: 'Models/best_rnn_model.h5'\n",
      "\n",
      "    Please choose an action:\n",
      "\t1) Train a new RNN\n",
      "\t2) Analyze a video clip (requires a trained RNN)\n",
      "\t3) Exit\n"
     ]
    },
    {
     "name": "stdin",
     "output_type": "stream",
     "text": [
      "\n",
      "    Enter your choice (1, 2, or 3):  2\n",
      "    To proceed with this action, you must have an RNN trained on the same individual you intend to analyze saved in the folder 'Models'.\n",
      "    Can you confirm? (yes/no):  yes\n"
     ]
    },
    {
     "name": "stdout",
     "output_type": "stream",
     "text": [
      "    You chose to analyze a video clip.\n"
     ]
    },
    {
     "name": "stdin",
     "output_type": "stream",
     "text": [
      "\n",
      "    Enter the path to the clip:  an1.avi\n"
     ]
    },
    {
     "name": "stdout",
     "output_type": "stream",
     "text": [
      "\n",
      "   Please insert the language of the video clip:\n",
      "\t1) English\n",
      "\t2) Italian\n",
      "\t3) Spanish\n",
      "\t4) French\n"
     ]
    },
    {
     "name": "stdin",
     "output_type": "stream",
     "text": [
      "\n",
      "    Enter your choice (number):  2\n"
     ]
    },
    {
     "name": "stdout",
     "output_type": "stream",
     "text": [
      "\n",
      "    Summary of provided data:\n",
      "\t\tClip to predict: an1.avi\n",
      "\t\tLanguage: it-IT\n",
      "\n"
     ]
    },
    {
     "name": "stdin",
     "output_type": "stream",
     "text": [
      "    Do you want to proceed with the above data? (yes to proceed / no to reset and start again):  yes\n"
     ]
    },
    {
     "name": "stdout",
     "output_type": "stream",
     "text": [
      "\n",
      "\n",
      "************************* PREDICTING ************************* \n",
      "1) We are going to extract still frames from the clip...\n",
      "\t...extracting and resizing frame: 168 of 168 frames\n",
      "\n",
      "\n",
      "   SUMMARY: \n",
      "\tThe clip an1.avi has been transformed in frames with the right format\n",
      "\t    Total frames created: 168\n",
      "\t    Frame format: 'size=224x224', 'color=RGB'\n",
      "\n",
      "\n",
      "2) We are going to extract features from the frames of the clips with our pre-trained CNN model...\n",
      "\t...loading the VGG16 pre-trained model\n",
      "\t...resizing, converting to RGB, normalising and extracting features from frame: 168 of 168 \n",
      "\n",
      "\n",
      "   SUMMARY: \n",
      "\tThe 168 frames have been transformed into a vector of features through the VGG16 model\n",
      "\t    Total vectors created: '1'\n",
      "\t    Total frames: '168'\n",
      "\t    Total feature per frame: '25088' (as per VGG16 output)\n",
      "\t    Reality check: \n",
      "\t\t'Print shape of resulting array' = (168, 25088)\n",
      "\n",
      "\n",
      "3) We are going to create the text from the audio...\n",
      "\t...extracting the audio from the video: an1.avi\n",
      "\t...audio saved successfully on a temp .wav file\n",
      "\t...transcritpion extracted as: ' vattene sei talmente stupido '\n",
      "\t... text translated as: ' go away you are so stupid '\n",
      "\t...deleting temporary audio file\n"
     ]
    },
    {
     "name": "stdin",
     "output_type": "stream",
     "text": [
      "\n",
      "\tDo you want to view the video clip for verification? (yes/no):  yes\n"
     ]
    },
    {
     "name": "stdout",
     "output_type": "stream",
     "text": [
      "\t...converting in compatible format\n",
      "\n",
      "\n"
     ]
    },
    {
     "data": {
      "text/html": [
       "<video src=\"an1.mp4\" controls  >\n",
       "      Your browser does not support the <code>video</code> element.\n",
       "    </video>"
      ],
      "text/plain": [
       "<IPython.core.display.Video object>"
      ]
     },
     "metadata": {},
     "output_type": "display_data"
    },
    {
     "name": "stdin",
     "output_type": "stream",
     "text": [
      "\tPress Enter once you're done watching the video... \n"
     ]
    },
    {
     "name": "stdout",
     "output_type": "stream",
     "text": [
      "\n",
      "   SUMMARY: \n",
      "\tThe audio of the clip: an1.avi has been captured and translated\n",
      "\t    Input language: 'it'\n",
      "\t    Translated language: 'en'\n",
      "\n",
      "\n",
      "4) We are going to preprocess the text...\n",
      "\t...'#' and '@' removed from the text\n",
      "\t...tokenizer: <keras_preprocessing.text.Tokenizer object at 0x000001A208824670> has been loaded\n",
      "\t...the text has been tokenized into sequences\n",
      "\t...the text has been padded with 'PRE' 500 characters\n",
      "\n",
      "   SUMMARY: \n",
      "\tThe text has been sanitized and preprocessed to meet the model input requirements\n",
      "\t    Tokenizer used: '<keras_preprocessing.text.Tokenizer object at 0x000001A208824670>' (as per trained model)\n",
      "\t    sequences shape '(1, 500)' (as per trained model)\n",
      "\t    sequence example [  0   0   0   0   0   0   0   0   0   0   0   0   0   0   0   0   0   0\n",
      "   0   0   0   0   0   0   0   0   0   0   0   0   0   0   0   0   0   0\n",
      "   0   0   0   0   0   0   0   0   0   0   0   0   0   0   0   0   0   0\n",
      "   0   0   0   0   0   0   0   0   0   0   0   0   0   0   0   0   0   0\n",
      "   0   0   0   0   0   0   0   0   0   0   0   0   0   0   0   0   0   0\n",
      "   0   0   0   0   0   0   0   0   0   0   0   0   0   0   0   0   0   0\n",
      "   0   0   0   0   0   0   0   0   0   0   0   0   0   0   0   0   0   0\n",
      "   0   0   0   0   0   0   0   0   0   0   0   0   0   0   0   0   0   0\n",
      "   0   0   0   0   0   0   0   0   0   0   0   0   0   0   0   0   0   0\n",
      "   0   0   0   0   0   0   0   0   0   0   0   0   0   0   0   0   0   0\n",
      "   0   0   0   0   0   0   0   0   0   0   0   0   0   0   0   0   0   0\n",
      "   0   0   0   0   0   0   0   0   0   0   0   0   0   0   0   0   0   0\n",
      "   0   0   0   0   0   0   0   0   0   0   0   0   0   0   0   0   0   0\n",
      "   0   0   0   0   0   0   0   0   0   0   0   0   0   0   0   0   0   0\n",
      "   0   0   0   0   0   0   0   0   0   0   0   0   0   0   0   0   0   0\n",
      "   0   0   0   0   0   0   0   0   0   0   0   0   0   0   0   0   0   0\n",
      "   0   0   0   0   0   0   0   0   0   0   0   0   0   0   0   0   0   0\n",
      "   0   0   0   0   0   0   0   0   0   0   0   0   0   0   0   0   0   0\n",
      "   0   0   0   0   0   0   0   0   0   0   0   0   0   0   0   0   0   0\n",
      "   0   0   0   0   0   0   0   0   0   0   0   0   0   0   0   0   0   0\n",
      "   0   0   0   0   0   0   0   0   0   0   0   0   0   0   0   0   0   0\n",
      "   0   0   0   0   0   0   0   0   0   0   0   0   0   0   0   0   0   0\n",
      "   0   0   0   0   0   0   0   0   0   0   0   0   0   0   0   0   0   0\n",
      "   0   0   0   0   0   0   0   0   0   0   0   0   0   0   0   0   0   0\n",
      "   0   0   0   0   0   0   0   0   0   0   0   0   0   0   0   0   0   0\n",
      "   0   0   0   0   0   0   0   0   0   0   0   0   0   0   0   0   0   0\n",
      "   0   0   0   0   0   0   0   0   0   0   0   0   0   0   0   0   0   0\n",
      "   0   0   0   0   0   0   0   0 102 160  33  48  15 288]\n",
      "\n",
      "\n",
      "5) We are going feed the audio and video in the Multi-imput LSTM model for prediction\n",
      "Video Sequences (1, 168, 25088)\n",
      "\t...importing pre-trained rnn model for image stream input\n",
      "\n",
      "\n",
      "**********************************************************************\n",
      "Model: \"Our_Chosen_RNN_Model_VGG16\"\n",
      "_________________________________________________________________\n",
      "Layer (type)                 Output Shape              Param #   \n",
      "=================================================================\n",
      "input_2 (InputLayer)         [(None, None, 25088)]     0         \n",
      "_________________________________________________________________\n",
      "time_distributed (TimeDistri (None, None, 25088)       0         \n",
      "_________________________________________________________________\n",
      "lstm (LSTM)                  (None, 128)               12911104  \n",
      "_________________________________________________________________\n",
      "dropout (Dropout)            (None, 128)               0         \n",
      "_________________________________________________________________\n",
      "dense (Dense)                (None, 6)                 774       \n",
      "=================================================================\n",
      "Total params: 12,911,878\n",
      "Trainable params: 12,911,878\n",
      "Non-trainable params: 0\n",
      "_________________________________________________________________\n",
      "********************************************************************** \n",
      "\n"
     ]
    },
    {
     "name": "stdin",
     "output_type": "stream",
     "text": [
      "\tPress Enter once you're done checking the model... \n"
     ]
    },
    {
     "name": "stdout",
     "output_type": "stream",
     "text": [
      "\n",
      "\t...importing pre-trained rnn model for text stream input\n",
      "\n",
      "\n",
      "**********************************************************************\n",
      "Model: \"sequential\"\n",
      "_________________________________________________________________\n",
      "Layer (type)                 Output Shape              Param #   \n",
      "=================================================================\n",
      "embedding (Embedding)        (None, 500, 300)          5097600   \n",
      "_________________________________________________________________\n",
      "bidirectional (Bidirectional (None, 256)               330240    \n",
      "_________________________________________________________________\n",
      "dense (Dense)                (None, 6)                 1542      \n",
      "=================================================================\n",
      "Total params: 5,429,382\n",
      "Trainable params: 331,782\n",
      "Non-trainable params: 5,097,600\n",
      "_________________________________________________________________\n",
      "********************************************************************** \n",
      "\n"
     ]
    },
    {
     "name": "stdin",
     "output_type": "stream",
     "text": [
      "\tPress Enter once you're done checking the model... \n"
     ]
    },
    {
     "name": "stdout",
     "output_type": "stream",
     "text": [
      "\n",
      "\t...creating our Multi_Input model\n",
      "\n",
      "\n",
      "**********************************************************************\n",
      "Model: \"Our_MultiInputModel\"\n",
      "__________________________________________________________________________________________________\n",
      "Layer (type)                    Output Shape         Param #     Connected to                     \n",
      "==================================================================================================\n",
      "input_4 (InputLayer)            [(None, None, 25088) 0                                            \n",
      "__________________________________________________________________________________________________\n",
      "input_5 (InputLayer)            [(None, 500)]        0                                            \n",
      "__________________________________________________________________________________________________\n",
      "Our_Chosen_RNN_Model_VGG16 (Fun (None, 6)            12911878    input_4[0][0]                    \n",
      "__________________________________________________________________________________________________\n",
      "sequential (Sequential)         (None, 6)            5429382     input_5[0][0]                    \n",
      "__________________________________________________________________________________________________\n",
      "dot (Dot)                       (None, 1)            0           Our_Chosen_RNN_Model_VGG16[0][0] \n",
      "                                                                 sequential[0][0]                 \n",
      "__________________________________________________________________________________________________\n",
      "dense_1 (Dense)                 (None, 1)            2           dot[0][0]                        \n",
      "==================================================================================================\n",
      "Total params: 18,341,262\n",
      "Trainable params: 13,243,662\n",
      "Non-trainable params: 5,097,600\n",
      "__________________________________________________________________________________________________\n",
      "Activation: Sigmoid \n",
      "Optimizer: Adam \n",
      "Loss: loss: categorical_crossentropy \n",
      "Similarity: Dot\n",
      "********************************************************************** \n",
      "\n"
     ]
    },
    {
     "name": "stdin",
     "output_type": "stream",
     "text": [
      "\tPress Enter once you're done checking the model... \n"
     ]
    },
    {
     "name": "stdout",
     "output_type": "stream",
     "text": [
      "\n",
      "\t...predicting Similarity\n",
      "\t...evaluating results\n",
      "\n",
      "\n",
      "**********************************************************************\n",
      "    Predicted Similarity Score: 0.8007 - Perfect Match\n",
      "**********************************************************************\n",
      "\n",
      "    Please choose an action:\n",
      "\t1) Train a new RNN\n",
      "\t2) Analyze a video clip (requires a trained RNN)\n",
      "\t3) Exit\n"
     ]
    },
    {
     "name": "stdin",
     "output_type": "stream",
     "text": [
      "\n",
      "    Enter your choice (1, 2, or 3):  3\n"
     ]
    },
    {
     "name": "stdout",
     "output_type": "stream",
     "text": [
      "\n",
      "\n",
      "********************************\n",
      "* Exiting EmotionNet. Goodbye! *\n",
      "********************************\n"
     ]
    }
   ],
   "source": [
    "K.clear_session()\n",
    "emotion_to_int = {'Angry': 0, 'Disgust': 1, 'Fear': 2, 'Happy': 3, 'Sad': 4, 'Surprise': 5}\n",
    "emotion_labels= [emotion_to_int[i] for i in sorted(emotion_to_int.keys())]\n",
    "get_user_input(emotion_to_int, emotion_labels)"
   ]
  },
  {
   "cell_type": "code",
   "execution_count": null,
   "id": "4c42fd4e-78f0-421d-86c2-83e052cb68b5",
   "metadata": {},
   "outputs": [],
   "source": []
  }
 ],
 "metadata": {
  "kernelspec": {
   "display_name": "Python 3 (ipykernel)",
   "language": "python",
   "name": "python3"
  },
  "language_info": {
   "codemirror_mode": {
    "name": "ipython",
    "version": 3
   },
   "file_extension": ".py",
   "mimetype": "text/x-python",
   "name": "python",
   "nbconvert_exporter": "python",
   "pygments_lexer": "ipython3",
   "version": "3.9.16"
  }
 },
 "nbformat": 4,
 "nbformat_minor": 5
}
