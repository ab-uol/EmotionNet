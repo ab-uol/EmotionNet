{
 "cells": [
  {
   "cell_type": "code",
   "execution_count": 4,
   "id": "73571545-ee30-4262-8007-93ca21428ca5",
   "metadata": {
    "tags": []
   },
   "outputs": [],
   "source": [
    "def create_directories(generations_num, pop_size, max_epochs, evaluation_mode):\n",
    "    time_id = str(int(datetime.now().timestamp()))[3:]\n",
    "    directory_path_root = \"Reports/Sim\"+time_id+\"_it\"+str(generations_num) +\"_pop\"+str(pop_size)+\"_ep\"+str(max_epochs)+\"_ev\"+str(evaluation_mode)\n",
    "    directory_path_elites = directory_path_root+\"/Elites\"\n",
    "    directory_path_genomes = directory_path_root+\"/Genomes\"\n",
    "    directory_path_models = directory_path_root+\"/Models\"\n",
    "    os.mkdir(directory_path_root)\n",
    "    os.mkdir(directory_path_elites)\n",
    "    os.mkdir(directory_path_genomes)\n",
    "    os.mkdir(directory_path_models)\n",
    "    \n",
    "    report_table = [['It', 'Epochs', 'Fitness', 'Max Fit',\n",
    "                         'Conv Blocks', 'Trainable Params', 'Mean CB', \n",
    "                         'Mean Fit', 'Mean TP',\n",
    "                         'Max CB', 'Pop', 'Time']]\n",
    "    csv_name = directory_path_root+\"/FinalReport.csv\"\n",
    "    with open(csv_name, 'w',newline='') as f:\n",
    "        write = csv.writer(f)\n",
    "        write.writerows(report_table)\n",
    "        \n",
    "    elites_table = [['It', 'Epochs', 'Fitness', 'Max Fit',\n",
    "                         'Conv Blocks', 'Trainable Params', 'Mean CB', \n",
    "                         'Mean Fit', 'Mean TP',\n",
    "                         'Max CB', 'Pop', 'Time', 'ID']]\n",
    "    csv_name = directory_path_root+\"/Elites.csv\"\n",
    "    with open(csv_name, 'w',newline='') as f:\n",
    "        write = csv.writer(f)\n",
    "        write.writerows(elites_table)\n",
    "\n",
    "    return directory_path_root, directory_path_elites, directory_path_genomes, directory_path_models"
   ]
  },
  {
   "cell_type": "code",
   "execution_count": 7,
   "id": "5935365f-9591-4397-870b-9211cbd092ad",
   "metadata": {
    "tags": []
   },
   "outputs": [],
   "source": [
    "def genome_to_csv(directory_path_genomes, dna, it):\n",
    "    unique_ID = 'cr-' + str(uuid.uuid4())\n",
    "    csv_file = directory_path_genomes+\"/generation\"+it+\".csv\"\n",
    "    csv_data = [unique_ID] + [str(val) for gene in dna for val in gene]\n",
    "    \n",
    "    with open(csv_file, 'a', newline='') as f:\n",
    "        writer = csv.writer(f)\n",
    "        writer.writerow(csv_data)\n",
    "    return unique_ID"
   ]
  },
  {
   "cell_type": "code",
   "execution_count": 3,
   "id": "33d23044-7d40-40c4-9f19-f6f95daff248",
   "metadata": {
    "tags": []
   },
   "outputs": [],
   "source": [
    "def write_report_file(directory_url, it, ep, len_pop, fitness, training_times, trainable_params_nums, conv_lyrs_num):\n",
    "    iteration_report = []\n",
    "    max_fit = np.max(fitness)\n",
    "    mean_fit = np.mean(fitness)\n",
    "    mean_params = np.mean(trainable_params_nums)\n",
    "    mean_conv_layers = np.mean(conv_lyrs_num)\n",
    "    max_conv_layers = np.max(conv_lyrs_num)\n",
    "    for i in range (len_pop):\n",
    "        new_line = it, ep[i], fitness[i], max_fit, conv_lyrs_num[i], trainable_params_nums[i], mean_conv_layers, mean_fit, mean_params, max_conv_layers, len_pop, training_times[i]\n",
    "        iteration_report.append(new_line)\n",
    "    csv_name = directory_url+\"/FinalReport.csv\"\n",
    "    # csv_name =directory_url\n",
    "    with open(csv_name, 'a', newline='') as f:\n",
    "        writer = csv.writer(f)\n",
    "        writer.writerows(iteration_report)\n",
    "        \n",
    "    # return iteration_report\n",
    "        "
   ]
  },
  {
   "cell_type": "code",
   "execution_count": 6,
   "id": "746c8962-fdac-4a28-8dc3-d5cc22a3481d",
   "metadata": {
    "tags": []
   },
   "outputs": [],
   "source": [
    "def add_elite(directory_url, it, ep, len_pop, fitness, training_times, trainable_params_nums, conv_lyrs_num, elite_idx, ID):\n",
    "    iteration_report = []\n",
    "    max_fit = np.max(fitness)\n",
    "    mean_fit = np.mean(fitness)\n",
    "    mean_params = np.mean(trainable_params_nums)\n",
    "    mean_conv_layers = np.mean(conv_lyrs_num)\n",
    "    max_conv_layers = np.max(conv_lyrs_num)\n",
    "    new_line = it, ep[elite_idx], fitness[elite_idx], max_fit, \\\n",
    "                conv_lyrs_num[elite_idx], trainable_params_nums[elite_idx], \\\n",
    "                mean_conv_layers, mean_fit, mean_params, max_conv_layers, len_pop, \\\n",
    "                training_times[elite_idx], ID\n",
    "       \n",
    "    csv_name = directory_url+\"/Elites.csv\"\n",
    "    # csv_name =directory_url\n",
    "    with open(csv_name, 'a', newline='') as f:\n",
    "        writer = csv.writer(f)\n",
    "        writer.writerow(new_line)\n",
    "        \n",
    "    # return iteration_report\n",
    "        "
   ]
  },
  {
   "cell_type": "code",
   "execution_count": null,
   "id": "2b68e9bb-856a-4184-b32d-a8df7cd0968b",
   "metadata": {},
   "outputs": [],
   "source": [
    "def count_conv_layers(genome):\n",
    "    layers = 0\n",
    "    for gene in genome:\n",
    "        if gene[0] == 0:\n",
    "            layers = layers + 1\n",
    "    return layers"
   ]
  }
 ],
 "metadata": {
  "kernelspec": {
   "display_name": "Python 3 (ipykernel)",
   "language": "python",
   "name": "python3"
  },
  "language_info": {
   "codemirror_mode": {
    "name": "ipython",
    "version": 3
   },
   "file_extension": ".py",
   "mimetype": "text/x-python",
   "name": "python",
   "nbconvert_exporter": "python",
   "pygments_lexer": "ipython3",
   "version": "3.9.16"
  }
 },
 "nbformat": 4,
 "nbformat_minor": 5
}
