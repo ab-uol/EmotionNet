{
 "cells": [
  {
   "cell_type": "code",
   "execution_count": 2,
   "id": "265cca55-c35b-448e-8c3c-9a038b528dd5",
   "metadata": {},
   "outputs": [],
   "source": [
    "import pandas as pd\n",
    "import numpy as np\n",
    "import plotly.express as px\n",
    "\n",
    "from sklearn.model_selection import train_test_split\n",
    "# from sklearn.preprocessing import StandardScaler\n",
    "\n",
    "import tensorflow as tf\n",
    "from tensorflow.keras.utils import to_categorical\n",
    "from keras.preprocessing.image import ImageDataGenerator\n",
    "\n",
    "import matplotlib.pyplot as plt\n"
   ]
  },
  {
   "cell_type": "code",
   "execution_count": 3,
   "id": "29d1a722-63b2-4c69-bca4-7d701c2bfa31",
   "metadata": {},
   "outputs": [],
   "source": [
    "def import_dataset(filename, verbose):\n",
    "    # Load the data\n",
    "    data = pd.read_csv(filename)\n",
    "    if verbose: print(data.head())\n",
    "    return data"
   ]
  },
  {
   "cell_type": "code",
   "execution_count": 2,
   "id": "b916434a-8bc0-4112-bab3-6278d5efa61a",
   "metadata": {
    "tags": []
   },
   "outputs": [],
   "source": [
    "def remove_emotion(data, emotion):\n",
    "    filtered_data = data[data['emotion'] != emotion]\n",
    "    return filtered_data"
   ]
  },
  {
   "cell_type": "code",
   "execution_count": 4,
   "id": "2476c0cd-48e2-47c5-a578-daea3d35643e",
   "metadata": {
    "tags": []
   },
   "outputs": [],
   "source": [
    "def plot_categories_distribution(data):\n",
    "    CLASS_LABELS  = ['Angry', 'Disgust', 'Fear', 'Happy', 'Sad', 'Surprise', \"Neutral\"]\n",
    "    emotion_counts = data['emotion'].value_counts(normalize=True).sort_index()\n",
    "    emotion_percentages = 100 * emotion_counts\n",
    "    fig = px.bar(x = [f\"{label} ({percentage:.2f}%)\" for label, percentage in zip(CLASS_LABELS, emotion_percentages)],\n",
    "                 y = emotion_counts.values * len(data),\n",
    "                 color = emotion_counts.index,\n",
    "                 color_continuous_scale=\"Emrld\") \n",
    "    fig.update_xaxes(title=\"Emotions\")\n",
    "    fig.update_yaxes(title = \"Number of Images\")\n",
    "    fig.update_layout(showlegend = True,\n",
    "                      title = {\n",
    "                          'text': 'Data Distribution',\n",
    "                          'y':0.95,\n",
    "                          'x':0.5,\n",
    "                          'xanchor': 'center',\n",
    "                          'yanchor': 'top'})\n",
    "    fig.show()\n"
   ]
  },
  {
   "cell_type": "code",
   "execution_count": 5,
   "id": "9587c7f9-78d1-4101-af98-cb546041d9dc",
   "metadata": {
    "tags": []
   },
   "outputs": [],
   "source": [
    "def format_labels_and_tensors(data, verbose):\n",
    "    data = data.sample(frac=1, random_state=42)\n",
    "    \n",
    "    train_pixels = data[\"pixels\"].astype(str).str.split(\" \").tolist()\n",
    "    train_pixels = np.array(train_pixels, dtype=np.uint8)  # Convert to uint8\n",
    "    \n",
    "    # Dynamic reshaping based on the number of samples\n",
    "    num_samples = train_pixels.shape[0]\n",
    "    pixels = train_pixels.reshape((num_samples, 48, 48, 1))\n",
    "    \n",
    "    # Adjust the num_classes based on unique emotion labels\n",
    "    num_classes = len(data['emotion'].unique())\n",
    "    labels = to_categorical(data[['emotion']], num_classes=num_classes)\n",
    "    \n",
    "    X_train, X_test, y_train, y_test = train_test_split(pixels, labels, test_size=0.1, shuffle=False)\n",
    "    X_train, X_val, y_train, y_val = train_test_split(X_train, y_train, test_size=0.1, shuffle=False)\n",
    "    \n",
    "    if verbose:\n",
    "        print(X_train.shape)\n",
    "        print(X_test.shape)\n",
    "        print(X_val.shape)\n",
    "    \n",
    "    return [X_train, y_train, X_test, y_test, X_val, y_val]\n"
   ]
  },
  {
   "cell_type": "code",
   "execution_count": 6,
   "id": "75a45089-13ef-456f-908d-c41c0148a6d9",
   "metadata": {},
   "outputs": [],
   "source": [
    "def plot_emotion_samples(X_train, y_train):\n",
    "    plt.figure(figsize=(15,23))\n",
    "    label_dict = {0 : 'Angry', 1 : 'Disgust', 2 : 'Fear', 3 : 'Happy', 4 : 'Sad', 5 : 'Surprise', 6 : 'Neutral'}\n",
    "    i = 1\n",
    "    for i in range (7):\n",
    "        img = np.squeeze(X_train[i])\n",
    "        plt.subplot(1,7,i+1)\n",
    "        plt.imshow(img)\n",
    "        index = np.argmax(y_train[i])\n",
    "        plt.title(label_dict[index])\n",
    "        plt.axis('off')\n",
    "        i += 1\n",
    "    plt.show()"
   ]
  },
  {
   "cell_type": "code",
   "execution_count": 7,
   "id": "00d776ab-8c16-4475-bba3-f1ccc24f100e",
   "metadata": {
    "tags": []
   },
   "outputs": [],
   "source": [
    "\n",
    "def create_data_objects(datasets):\n",
    "    X_train, y_train, X_val, y_val, X_test, y_test = datasets\n",
    "    # Create data generator objects for training and validation\n",
    "    train_datagen = ImageDataGenerator(\n",
    "        rescale=1./255,\n",
    "        rotation_range=30,\n",
    "        width_shift_range=0.1,\n",
    "        height_shift_range=0.1,\n",
    "        shear_range=0.1,\n",
    "        zoom_range=0.1,\n",
    "        horizontal_flip=True)\n",
    "\n",
    "    val_datagen = ImageDataGenerator(rescale=1./255)\n",
    "\n",
    "    # No need to fit the generator in this case\n",
    "    train_generator = train_datagen.flow(X_train, y_train, batch_size=64)\n",
    "    val_generator = val_datagen.flow(X_val, y_val, batch_size=64)\n",
    "    \n",
    "    # Create a test generator with rescaling\n",
    "    test_datagen = ImageDataGenerator(rescale=1./255)\n",
    "\n",
    "    # Flow the data from the test set\n",
    "    test_generator = test_datagen.flow(X_test, y_test, batch_size=64)\n",
    "    \n",
    "    return train_generator, val_generator, test_generator"
   ]
  },
  {
   "cell_type": "code",
   "execution_count": 8,
   "id": "3181004a-c7c3-4298-8e6e-fb331439f0ef",
   "metadata": {
    "tags": []
   },
   "outputs": [],
   "source": [
    " def print_tensor_check(datasets):\n",
    "    X_train, y_train, X_val, y_val, X_test, y_test = datasets\n",
    "    print('Tensors Check')\n",
    "    print(f'\\ttrain images: type:{type(X_train)}, num of items:{X_train.shape[0]}, \\\n",
    "    data in 1 item:{X_train.shape[1]}, max-min value:{np.max(X_train[1])} - {np.min(X_train[1])}')\n",
    "\n",
    "    print(f'\\tvalidation images: type:{type(X_val)}, num of items:{X_val.shape[0]}, \\\n",
    "    data in 1 item:{X_val.shape[1]}, max-min value:{np.max(X_val[1])} - {np.min(X_val[1])}')\n",
    "\n",
    "    print(f'\\ttest images: type:{type(X_test)}, num of items:{X_test.shape[0]}, \\\n",
    "    data in 1 item:{X_test.shape[1]}, max-min value:{np.max(X_test[1])} - {np.min(X_test[1])}')\n",
    "\n",
    "    print(f'\\ttrain labels: type:{type(y_train)}, num of items:{y_train.shape[0]}, \\\n",
    "    max-min value:{np.max(y_train)} - {np.min(y_train)}')\n",
    "\n",
    "    print(f'\\tvalidation labels: type:{type(y_val)}, num of items:{y_val.shape[0]}, \\\n",
    "    max-min value:{np.max(y_val)} - {np.min(y_val)}')\n",
    "\n",
    "    print(f'\\ttest labels: type:{type(y_test)}, num of items:{y_test.shape[0]}, \\\n",
    "    max-min value:{np.max(y_test)} - {np.min(y_test)}')"
   ]
  },
  {
   "cell_type": "code",
   "execution_count": 33,
   "id": "bb9c491a-c308-4565-85d2-592cb3c9b2c9",
   "metadata": {
    "tags": []
   },
   "outputs": [],
   "source": [
    "def preprocess_dataset(filename, verbose):\n",
    "    dataset = import_dataset(filename, verbose)\n",
    "    if verbose: plot_categories_distribution(dataset)\n",
    "    filtered_data = remove_emotion(dataset, 6)\n",
    "    if verbose: plot_categories_distribution(filtered_data)\n",
    "    separated_datasets = format_labels_and_tensors(filtered_data, verbose)\n",
    "    if verbose: plot_emotion_samples(separated_datasets[0], separated_datasets[1])\n",
    "    if verbose: print_tensor_check(separated_datasets)\n",
    "    return separated_datasets"
   ]
  },
  {
   "cell_type": "code",
   "execution_count": null,
   "id": "f6059d3d-0015-496c-9bae-0e5d0a232ddd",
   "metadata": {},
   "outputs": [],
   "source": []
  }
 ],
 "metadata": {
  "kernelspec": {
   "display_name": "Python 3 (ipykernel)",
   "language": "python",
   "name": "python3"
  },
  "language_info": {
   "codemirror_mode": {
    "name": "ipython",
    "version": 3
   },
   "file_extension": ".py",
   "mimetype": "text/x-python",
   "name": "python",
   "nbconvert_exporter": "python",
   "pygments_lexer": "ipython3",
   "version": "3.9.16"
  }
 },
 "nbformat": 4,
 "nbformat_minor": 5
}
