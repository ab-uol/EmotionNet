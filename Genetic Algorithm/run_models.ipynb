{
 "cells": [
  {
   "cell_type": "code",
   "execution_count": null,
   "id": "98b83fd3-745c-4ff2-8faf-3121d912c597",
   "metadata": {},
   "outputs": [],
   "source": []
  },
  {
   "cell_type": "code",
   "execution_count": 2,
   "id": "27d4fbb8-1f7d-4b26-b5ef-94b06532c8bf",
   "metadata": {
    "tags": []
   },
   "outputs": [],
   "source": [
    "def run_model(model, X_train, y_train,X_val, y_val, epochs, batch_size, verbose):\n",
    "    train_datagen = ImageDataGenerator(\n",
    "    rescale=1./255,\n",
    "    rotation_range=30,\n",
    "    width_shift_range=0.1,\n",
    "    height_shift_range=0.1,\n",
    "    shear_range=0.1,\n",
    "    zoom_range=0.1,\n",
    "    horizontal_flip=True)\n",
    "    \n",
    "    val_datagen = ImageDataGenerator(rescale=1./255)\n",
    "\n",
    "    # No need to fit the generator in this case\n",
    "    train_generator = train_datagen.flow(X_train, y_train, batch_size=batch_size, seed=42)\n",
    "    val_generator = val_datagen.flow(X_val, y_val, batch_size=batch_size, seed=42)\n",
    "    \n",
    "    time_callback = TimeHistory()\n",
    "    \n",
    "    # Initialize EarlyStopping callback\n",
    "    early_stopping = EarlyStopping(monitor='val_accuracy', patience=5, restore_best_weights=True)\n",
    "    \n",
    "    history = model.fit(train_generator,\n",
    "                        steps_per_epoch=len(X_train) // batch_size, \n",
    "                        epochs=epochs,\n",
    "                        verbose=verbose,\n",
    "                        validation_data=val_generator,\n",
    "                        validation_steps=len(X_val) // batch_size, \n",
    "                                  callbacks=[time_callback, early_stopping])\n",
    "    \n",
    "    num_epochs_trained = len(history.history['accuracy'])\n",
    "    scores =history.history['val_accuracy'][-1]\n",
    "    # Get the total training time\n",
    "    total_time = sum(time_callback.times)\n",
    "    # total_time = 0.25\n",
    "    \n",
    "    return num_epochs_trained,scores, total_time"
   ]
  },
  {
   "cell_type": "code",
   "execution_count": null,
   "id": "d10c5e08-fad7-4bfa-8ec4-bffce3820da6",
   "metadata": {},
   "outputs": [],
   "source": []
  }
 ],
 "metadata": {
  "kernelspec": {
   "display_name": "Python 3 (ipykernel)",
   "language": "python",
   "name": "python3"
  },
  "language_info": {
   "codemirror_mode": {
    "name": "ipython",
    "version": 3
   },
   "file_extension": ".py",
   "mimetype": "text/x-python",
   "name": "python",
   "nbconvert_exporter": "python",
   "pygments_lexer": "ipython3",
   "version": "3.9.16"
  }
 },
 "nbformat": 4,
 "nbformat_minor": 5
}
