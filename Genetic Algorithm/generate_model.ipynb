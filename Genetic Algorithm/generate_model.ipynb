{
 "cells": [
  {
   "cell_type": "markdown",
   "id": "85d8a710-8c61-4ff5-984b-d8b23c278192",
   "metadata": {},
   "source": [
    "## Imports"
   ]
  },
  {
   "cell_type": "code",
   "execution_count": 19,
   "id": "506bd730-bd92-4a3d-aab6-f146d3a854af",
   "metadata": {
    "tags": []
   },
   "outputs": [],
   "source": [
    "import tensorflow as tf\n",
    "from tensorflow.keras.models import Sequential\n",
    "from tensorflow.keras.optimizers import Adam,RMSprop,SGD,Adamax\n",
    "from keras.layers import Conv2D, MaxPool2D, Flatten,Dense,Dropout,BatchNormalization,MaxPooling2D,Activation,Input\n",
    "from keras.models import Model\n",
    "from keras import regularizers\n",
    "from keras.regularizers import l1, l2\n",
    "from keras.callbacks import Callback\n",
    "\n",
    "import csv\n",
    "import json"
   ]
  },
  {
   "cell_type": "markdown",
   "id": "09e6adba-b819-4869-b99a-cc9ec33741f3",
   "metadata": {},
   "source": [
    "## Generate Model"
   ]
  },
  {
   "cell_type": "code",
   "execution_count": 9,
   "id": "83eeeff4-335d-4d52-9b56-34eaa3598c0b",
   "metadata": {
    "tags": []
   },
   "outputs": [],
   "source": [
    "def add_dense_layer(model, layer):\n",
    "    type_of_activation = str(int(layer[2]))\n",
    "    act = params['type_of_activation_in_dense_lyrs'].get(type_of_activation)\n",
    "    # print(\"params['type_of_activation_in_dense_lyrs']:\", params['type_of_activation_in_dense_lyrs'], \"layer[2]=\",layer[2], \": act=\",act)\n",
    "    if layer[3] == 0:\n",
    "        model.add(Dense(units=layer[1], \n",
    "                    activation=act))\n",
    "    elif layer[3] == 1:\n",
    "        reg = regularizers.l1(layer[4])\n",
    "        model.add(Dense(units=layer[1], \n",
    "                    activation=act,\n",
    "                    kernel_regularizer=reg))\n",
    "    elif layer[3] == 2:\n",
    "        reg = regularizers.l2(layer[4])\n",
    "        model.add(Dense(units=layer[1], \n",
    "                    activation=act,\n",
    "                    kernel_regularizer=reg))   "
   ]
  },
  {
   "cell_type": "code",
   "execution_count": 10,
   "id": "d1353b46-6a14-4239-81a5-46dc13cb4b30",
   "metadata": {
    "tags": []
   },
   "outputs": [],
   "source": [
    "def add_compile_layer(model,layer):\n",
    "    optimizer = None\n",
    "    if layer[1] == 0:\n",
    "        optimizer = Adam(learning_rate=layer[2])\n",
    "    elif layer[1] == 1:\n",
    "        optimizer = SGD(learning_rate=layer[2])\n",
    "    elif layer[1] == 2:\n",
    "        optimizer = RMSprop(learning_rate=layer[2])\n",
    "    model.compile(optimizer=optimizer, loss='categorical_crossentropy', metrics=['accuracy'])"
   ]
  },
  {
   "cell_type": "code",
   "execution_count": 11,
   "id": "ed418d14-84e1-4930-a8a8-bd08e6766162",
   "metadata": {
    "tags": []
   },
   "outputs": [],
   "source": [
    "def add_conv2d_layer(model, layer):\n",
    "    type_of_activation = str(int(layer[3]))\n",
    "    activation = params['type_of_activation_in_conv_lyrs'].get(type_of_activation)\n",
    "    # print(activation)\n",
    "    if layer[6] > 0:\n",
    "        if layer[4] == 0:\n",
    "            model.add(Conv2D(filters=layer[1], \n",
    "                     kernel_size=int(layer[2]),\n",
    "                     padding='same',\n",
    "                     activation=activation, \n",
    "                     input_shape=(48, 48,1)))\n",
    "        elif layer[4] == 1:\n",
    "            reg = regularizers.l1(layer[5])\n",
    "            model.add(Conv2D(filters=layer[1],\n",
    "                    kernel_size=int(layer[2]),\n",
    "                    padding='same',\n",
    "                    activation=activation, \n",
    "                    kernel_regularizer=reg,\n",
    "                    input_shape=(48, 48,1)))\n",
    "        elif layer[4] == 2:\n",
    "            reg = regularizers.l2(layer[5])\n",
    "            model.add(Conv2D(filters=layer[1],\n",
    "                    kernel_size=int(layer[2]), \n",
    "                    padding='same',\n",
    "                    activation=activation, \n",
    "                    kernel_regularizer=reg,\n",
    "                    input_shape=(48, 48,1)))\n",
    "    else:\n",
    "        if layer[4] == 0:\n",
    "            model.add(Conv2D(filters=layer[1], \n",
    "                     kernel_size=int(layer[2]),\n",
    "                     padding='same',\n",
    "                     activation=activation))\n",
    "        elif layer[4] == 1:\n",
    "            reg = regularizers.l1(layer[5])\n",
    "            model.add(Conv2D(filters=layer[1],\n",
    "                    kernel_size=int(layer[2]), \n",
    "                    padding='same',\n",
    "                    activation=activation, \n",
    "                    kernel_regularizer=reg))\n",
    "        elif layer[4] == 2:\n",
    "            reg = regularizers.l2(layer[5])\n",
    "            model.add(Conv2D(filters=layer[1],\n",
    "                    kernel_size=int(layer[2]), \n",
    "                    padding='same',\n",
    "                    activation=activation, \n",
    "                    kernel_regularizer=reg))\n"
   ]
  },
  {
   "cell_type": "code",
   "execution_count": 12,
   "id": "0aa8f020-8bae-4092-be0f-77feff3c484a",
   "metadata": {
    "tags": []
   },
   "outputs": [],
   "source": [
    "\n",
    "def add_batch_norm_layer(model, layer):\n",
    "    model.add(BatchNormalization())\n",
    "\n",
    "def add_maxpool2d_layer(model, layer):\n",
    "        model.add(MaxPool2D(pool_size=(2, 2)))\n",
    "\n",
    "def add_dropout_layer(model, layer):\n",
    "    model.add(Dropout(rate=layer[1]))\n",
    "\n",
    "def add_flatten_layer(model, layer):\n",
    "    model.add(Flatten())\n",
    "    \n",
    "def add_fit_layer(model, layer):\n",
    "    return\n"
   ]
  },
  {
   "cell_type": "code",
   "execution_count": 13,
   "id": "a6dbe4a0-ea88-41dd-9e1e-4243461833bc",
   "metadata": {
    "tags": []
   },
   "outputs": [],
   "source": [
    "# Then, you can create a dictionary to map layer types to functions\n",
    "layer_functions = {\n",
    "    0: add_conv2d_layer,\n",
    "    1: add_batch_norm_layer,\n",
    "    2: add_maxpool2d_layer,\n",
    "    3: add_dropout_layer,\n",
    "    4: add_dense_layer,\n",
    "    5: add_flatten_layer,\n",
    "    6: add_compile_layer,\n",
    "    7: add_fit_layer\n",
    "}"
   ]
  },
  {
   "cell_type": "code",
   "execution_count": 1,
   "id": "95c0e6bc-14c7-45b2-9750-83eea1147cce",
   "metadata": {
    "tags": []
   },
   "outputs": [],
   "source": [
    "\n",
    "def generate(genome,verbose):\n",
    "    model = Sequential()\n",
    "    for layer in genome:\n",
    "        layer_functions[layer[0]](model, layer)\n",
    "    \n",
    "    if verbose:\n",
    "        model.summary()\n",
    "        # config = model.get_config()\n",
    "        # i = 0\n",
    "        # for c in config['layers']:\n",
    "        #     i += 1\n",
    "        #     print(f\"\\nlayer {i}: {c}\")\n",
    "    num_trainable_params = np.sum([np.prod(v.get_shape()) for v in model.trainable_weights])\n",
    "    return model, num_trainable_params"
   ]
  },
  {
   "cell_type": "code",
   "execution_count": 22,
   "id": "65e9d822-d0c6-43c1-9586-463d28168cd2",
   "metadata": {},
   "outputs": [],
   "source": [
    "class TimeHistory(Callback):\n",
    "    def on_train_begin(self, logs={}):\n",
    "        self.times = []\n",
    "\n",
    "    def on_epoch_begin(self, epoch, logs={}):\n",
    "        self.epoch_time_start = time.time()\n",
    "\n",
    "    def on_epoch_end(self, epoch, logs={}):\n",
    "        self.times.append(time.time() - self.epoch_time_start)"
   ]
  },
  {
   "cell_type": "code",
   "execution_count": null,
   "id": "e4102422-afc2-4ad0-a1bb-c7f20ded41c1",
   "metadata": {},
   "outputs": [],
   "source": []
  }
 ],
 "metadata": {
  "kernelspec": {
   "display_name": "Python 3 (ipykernel)",
   "language": "python",
   "name": "python3"
  },
  "language_info": {
   "codemirror_mode": {
    "name": "ipython",
    "version": 3
   },
   "file_extension": ".py",
   "mimetype": "text/x-python",
   "name": "python",
   "nbconvert_exporter": "python",
   "pygments_lexer": "ipython3",
   "version": "3.9.16"
  }
 },
 "nbformat": 4,
 "nbformat_minor": 5
}
